{
 "cells": [
  {
   "cell_type": "markdown",
   "metadata": {},
   "source": [
    "Coursera Capstone - REPORT CONTENT\n",
    "Introduction Section : ⁃ Discussion of the business problem and the interested audience in this project.\n",
    "Data Section:\n",
    "⁃ Description of the data that will be used to solve the problem and the sources.\n",
    "Methodology section ⁃ Discussion and description of exploratory data analysis carried out, any inferential statistical testing performed, and if any machine learnings were used establishing the strategy and purposes.\n",
    "Results section ⁃ Discussion of the results.\n",
    "Discussion section ⁃ Elaboration and discussion on any observations noted and any recommendations suggested based on the results.\n",
    "Conclusion section ⁃ Report Conclusion."
   ]
  },
  {
   "cell_type": "markdown",
   "metadata": {},
   "source": [
    "## 1. Introduction Section :\n",
    "    \n",
    "Discussion of the business problem and the audience who would be interested in this project.\n",
    "\n",
    "Description of the Problem and Background\n",
    "\n",
    "### Scenario:\n",
    "    \n",
    "I am a data scientist residing in Downtown Singapore. I currently live within walking distance to Downtown Telok Ayer MRT metro station and I enjoy many ammenities and venues in the area, such as various international cousine restaurants, cafes, food shops and entertainment. I have been offered a great opportunity to work for a leader firm in Manhattan, NY. I am very excited and I want to use this opportunity to practice my learnings in Coursera in order to answer relevant questions arisen. The key question is : How can I find a convenient and enjoyable place similar to mine now in Singapore? Certainly, I can use available real estate apps and Google but the idea is to use and apply myself the learned tools during the course. In order to make a comparison and evaluation of the rental options in Manhattan NY, I must set some basis, therefore the apartment in Manhattan must meet the following demands:\n",
    "\n",
    "apartment must be 2 or 3 bedrooms\n",
    "\n",
    "desired location is near a metro station in the Manhattan area and within 1.0 mile (1.6 km) radius\n",
    "\n",
    "price of rent not exceed $7,000 per month\n",
    "\n",
    "top ammenities in the selected neighborhood shall be similar to current residence\n",
    "\n",
    "desirable to have venues such as coffee shops, restaurants Asian Thai, wine stores, gym and food shops\n",
    "\n",
    "as a reference, I have included a map of venues near current residence in Singapore.\n",
    "\n",
    "#### Business Problem:\n",
    "    \n",
    "The challenge is to find a suitable apartment for rent in Manhattan NY that complies with the demands on location, price and venues. The data required to resolve this challenge is described in the following section 2, below.\n",
    "\n",
    "\n",
    "#### Interested Audience\n",
    "\n",
    "I believe this is a relevant challenge with valid questions for anyone moving to other large city in US, EU or Asia. The same methodology can be applied in accordance to demands as applicable. This case is also applicable for anyone interested in exploring starting or locating a new business in any city. Lastly, it can also serve as a good practical exercise to develop Data Science skills."
   ]
  },
  {
   "cell_type": "code",
   "execution_count": null,
   "metadata": {},
   "outputs": [],
   "source": []
  }
 ],
 "metadata": {
  "kernelspec": {
   "display_name": "Python 3",
   "language": "python",
   "name": "python3"
  },
  "language_info": {
   "codemirror_mode": {
    "name": "ipython",
    "version": 3
   },
   "file_extension": ".py",
   "mimetype": "text/x-python",
   "name": "python",
   "nbconvert_exporter": "python",
   "pygments_lexer": "ipython3",
   "version": "3.7.6"
  }
 },
 "nbformat": 4,
 "nbformat_minor": 4
}
